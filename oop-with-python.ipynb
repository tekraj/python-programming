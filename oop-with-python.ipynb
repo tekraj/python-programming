{
 "cells": [
  {
   "cell_type": "markdown",
   "metadata": {},
   "source": [
    "## Object Oriented Programming\n",
    "- Object-oriented programming (OOP) is a method of structuring a program by bundling related properties and behaviors into individual objects\n",
    "\n",
    "# Basic Concepts of OOP\n",
    "- **Class**: In OOP class is blueprints from which the objects are created\n",
    "- **Object**: An instance of a class. Objects are created from classes and can hold different values for the attributes defined in the class.\n",
    "- **Encapsulation**: It helps restrict access to some components, promoting data hiding.\n",
    "- **Inheritance**: A mechanism where one class can inherit attributes and methods from another class. This promotes code reuse and establishes a hierarchical relationship.\n",
    "- **Polymorphism**:  Polymorphism means the same function name is being used for different types. Each function is differentiated based on its data type and number of arguments. So, each function has a different signature"
   ]
  },
  {
   "cell_type": "markdown",
   "metadata": {},
   "source": [
    "# Create class\n",
    "- Classes allow us to create user-defined data structures\n",
    "- Classes define functions called methods, which identify the behaviors and actions that an object created from the class can perform with its data"
   ]
  },
  {
   "cell_type": "markdown",
   "metadata": {},
   "source": [
    "### Create Class"
   ]
  },
  {
   "cell_type": "code",
   "execution_count": 3,
   "metadata": {},
   "outputs": [],
   "source": [
    "# empty class\n",
    "class Car:\n",
    "    pass\n",
    "\n",
    "\n",
    "# Creating a Class\n",
    "class Employee:\n",
    "    def __init__(self, name, age):\n",
    "        self.name =  name # attributes\n",
    "        self.age = age # attributes\n",
    "\n",
    "    def personal_info(self):  # method\n",
    "        print(f\"Employee Name: {self.name}\\nAge: {self.age}\")\n",
    "\n"
   ]
  },
  {
   "cell_type": "markdown",
   "metadata": {},
   "source": [
    "## The Python `__init__` Method \n",
    "- The `__init__` method is similar to constructors in C++ and Java\n",
    "- It is run as soon as an object of a class is instantiated"
   ]
  },
  {
   "cell_type": "markdown",
   "metadata": {},
   "source": [
    "### Creating Objects (Instances)\n",
    "- Use the class name followed by parentheses to create an object (instance) of the class.\n",
    "- Pass any required arguments to the constructor (__init__ method) if defined."
   ]
  },
  {
   "cell_type": "code",
   "execution_count": 4,
   "metadata": {},
   "outputs": [],
   "source": [
    "# Creating objects of class Employee\n",
    "employee_1 = Employee(\"Hari\", 20)\n",
    "employee_2 = Employee(\"Ram\", 21)"
   ]
  },
  {
   "cell_type": "markdown",
   "metadata": {},
   "source": [
    "### Accessing Attributes and Calling Methods\n",
    "Use dot notation (.) to access attributes and call methods of an object."
   ]
  },
  {
   "cell_type": "code",
   "execution_count": 5,
   "metadata": {},
   "outputs": [
    {
     "name": "stdout",
     "output_type": "stream",
     "text": [
      "Hari\n",
      "Ram\n",
      "Employee Name: Hari\n",
      "Age: 20\n"
     ]
    }
   ],
   "source": [
    "# Accessing attributes\n",
    "print(employee_1.name)   # Output: 'Hari'\n",
    "print(employee_2.name)  # 'Ram'\n",
    "\n",
    "# Calling methods\n",
    "employee_1.personal_info() \n",
    "\n"
   ]
  },
  {
   "cell_type": "markdown",
   "metadata": {},
   "source": [
    "### Instance and Class Attributes\n",
    "- Instance attributes are specific to each object (instance) and are defined inside the __init__ method using self.\n",
    "- Class attributes are shared among all instances of a class and are defined directly within the class body."
   ]
  },
  {
   "cell_type": "code",
   "execution_count": 6,
   "metadata": {},
   "outputs": [],
   "source": [
    "class Car:\n",
    "    # Class attribute\n",
    "    car_count = 0\n",
    "\n",
    "    # make,model and year are the parameters that needs to\n",
    "    # passed while creating its object\n",
    "    def __init__(self, make, model, year):\n",
    "        # Instance attributes\n",
    "        self.make = make\n",
    "        self.model = model\n",
    "        self.year = year\n",
    "\n",
    "car = Car('Toyota','v8','2020')"
   ]
  },
  {
   "cell_type": "markdown",
   "metadata": {},
   "source": [
    "## Encapsulation\n",
    "##### In python we use double underscores (__) for private methods and properties"
   ]
  },
  {
   "cell_type": "code",
   "execution_count": 7,
   "metadata": {},
   "outputs": [
    {
     "name": "stdout",
     "output_type": "stream",
     "text": [
      "50\n"
     ]
    }
   ],
   "source": [
    "# encapsulation\n",
    "class Person :\n",
    "    age = 50; # public\n",
    "    _address = 'Kathmandu' #protected\n",
    "    __bank_account = '4324lk-324kl' #private \n",
    "    def __init__(self): # constructor\n",
    "      pass\n",
    "    \n",
    "    def __getAccountNumber(self): #private\n",
    "        return self.__bank_account\n",
    "    \n",
    "    def _getAddress(self): #protected\n",
    "        return self._address\n",
    "    \n",
    "    def getAge(self): # pubic\n",
    "        return self.age\n",
    "\n",
    "person = Person()\n",
    "age = person.getAge()\n",
    "print(age)"
   ]
  },
  {
   "cell_type": "markdown",
   "metadata": {},
   "source": [
    "## Inheritance\n",
    "#### Inheritance allows to inherit the properties and methods of another class (parent class). "
   ]
  },
  {
   "cell_type": "code",
   "execution_count": 8,
   "metadata": {},
   "outputs": [
    {
     "name": "stdout",
     "output_type": "stream",
     "text": [
      "Kathmandu\n"
     ]
    }
   ],
   "source": [
    "# Inheritance\n",
    "class Student(Person):\n",
    "    def __init__(self):\n",
    "        super().__init__()\n",
    "\n",
    "    def depositFee(self):\n",
    "        print (self._getAddress())\n",
    "\n",
    "    def getAge(self): # polymorphism\n",
    "        return self.age\n",
    "\n",
    "student = Student()\n",
    "student.depositFee()"
   ]
  },
  {
   "cell_type": "markdown",
   "metadata": {},
   "source": [
    "# Polymorphism\n",
    "Polymorphism allows methods to be used in different ways, depending on the object type. In Python, it is often implemented through method overriding"
   ]
  },
  {
   "cell_type": "markdown",
   "metadata": {},
   "source": [
    "# polymorphism"
   ]
  },
  {
   "cell_type": "code",
   "execution_count": 9,
   "metadata": {},
   "outputs": [
    {
     "name": "stdout",
     "output_type": "stream",
     "text": [
      "The area is: 15\n",
      "The area is: 50.24\n"
     ]
    }
   ],
   "source": [
    "class Shape:\n",
    "    def area(self):\n",
    "        raise NotImplementedError(\"Subclasses must implement this method\")\n",
    "\n",
    "class Rectangle(Shape):\n",
    "    def __init__(self, width, height):\n",
    "        self.width = width\n",
    "        self.height = height\n",
    "\n",
    "    def area(self):\n",
    "        return self.width * self.height\n",
    "\n",
    "class Circle(Shape):\n",
    "    def __init__(self, radius):\n",
    "        self.radius = radius\n",
    "\n",
    "    def area(self):\n",
    "        return 3.14 * self.radius * self.radius\n",
    "\n",
    "# Function that takes a Shape and prints its area\n",
    "def print_area(shape):\n",
    "    print(f\"The area is: {shape.area()}\")\n",
    "\n",
    "# Creating instances of Rectangle and Circle\n",
    "rectangle = Rectangle(5, 3)\n",
    "circle = Circle(4)\n",
    "\n",
    "# Demonstrating polymorphism\n",
    "print_area(rectangle)  # Output: The area is: 15\n",
    "print_area(circle)     # Output: The area is: 50.24\n"
   ]
  },
  {
   "cell_type": "markdown",
   "metadata": {},
   "source": [
    "## Abstraction\n",
    "hiding the internal details of an application from the outside world"
   ]
  },
  {
   "cell_type": "code",
   "execution_count": 10,
   "metadata": {},
   "outputs": [],
   "source": [
    "from abc import ABC,abstractmethod\n",
    "\n",
    "class BankAccount(ABC):\n",
    "    def __init__(self,account_number,balance):\n",
    "        self.account_number = account_number\n",
    "        self.balance = balance\n",
    "    \n",
    "\n",
    "    @abstractmethod\n",
    "    def deposit(self,amount):\n",
    "        pass\n",
    "\n",
    "    @abstractmethod\n",
    "    def withdraw(self,amount):\n",
    "        pass\n",
    "\n",
    "\n",
    "\n",
    "class SavingAccount(BankAccount):\n",
    "    def __init__(self, account_number, balance):\n",
    "        super().__init__(account_number, balance)\n",
    "\n",
    "    def deposit(self, amount):\n",
    "        return super().deposit(amount)\n",
    "    \n",
    "    def withdraw(self, amount):\n",
    "        if(amount>self.balance):\n",
    "            print('Insufficient balance')\n",
    "            return None\n",
    "        print('Amount Deposited')\n",
    " \n",
    "    \n",
    "\n"
   ]
  }
 ],
 "metadata": {
  "kernelspec": {
   "display_name": "base",
   "language": "python",
   "name": "python3"
  },
  "language_info": {
   "codemirror_mode": {
    "name": "ipython",
    "version": 3
   },
   "file_extension": ".py",
   "mimetype": "text/x-python",
   "name": "python",
   "nbconvert_exporter": "python",
   "pygments_lexer": "ipython3",
   "version": "3.12.4"
  }
 },
 "nbformat": 4,
 "nbformat_minor": 2
}
