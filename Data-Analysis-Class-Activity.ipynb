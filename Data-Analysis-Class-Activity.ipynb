{
 "cells": [
  {
   "cell_type": "markdown",
   "metadata": {},
   "source": [
    "## Task-1\n",
    "From the Top 120 best-selling mobile datasets data perform following tasks\n",
    "- Download the ``top 120 best-selling mobile phones.csv`` CSV file\n",
    "- **Perform Data Cleaning**\n",
    "- **Perform Data Visualization**\n",
    "    - Create a histogram of the Units Sold (million) column to visualize the distribution of units sold across all mobile models\n",
    "    - Top Manufacturers:\n",
    "        - Create a bar chart showing the top 10 manufacturers by total units sold\n",
    "    - Yearly Trends in Units Sold\n",
    "        - Create a line plot showing the total units sold per year to visualize any trends over time\n",
    "\n",
    "- **Data Analysis**\n",
    "    - Find and display the top 10 mobile models with the highest units sold\n",
    "    - Identify High-Selling Years for Each Manufacturer\n",
    "- **Clustering Mobile Models by Sales Performance**"
   ]
  },
  {
   "cell_type": "markdown",
   "metadata": {},
   "source": [
    "## Task-2\n",
    "From the binance datasets data perform following tasks\n",
    "- Download the ``binance-dataset.csv`` CSV file\n",
    "- **Perform Data Cleaning and Manipulation**\n",
    "    - Handle missing data\n",
    "    - Convert open_time, close_time, open_time_utc, close_time_utc to datetime format\n",
    "  \n",
    "- **Perform Data Visualization**\n",
    "    - Plot a line graph showing the closing price (close) over time\n",
    "    - Create a line plot showing the total trading volume (volume) over time to visualize market activity and trading volume\n",
    "\n",
    "- **Data Analysis**\n",
    "    - Identify the date and time when the maximum and minimum closing prices occurred\n",
    "    - Calculate the average volume traded by the day of the week and create a bar plot\n",
    "- **Build Linear Regression to Predict Closing Price using open, high,low and volume**"
   ]
  },
  {
   "cell_type": "markdown",
   "metadata": {},
   "source": []
  }
 ],
 "metadata": {
  "language_info": {
   "name": "python"
  }
 },
 "nbformat": 4,
 "nbformat_minor": 2
}
