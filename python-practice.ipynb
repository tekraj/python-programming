{
 "cells": [
  {
   "cell_type": "markdown",
   "metadata": {},
   "source": [
    "# Questions\n",
    "- ### Write a function to Swap two numbers without using a temporary variable\n",
    "- ### Write a function to reverse the given list \n",
    "\n",
    "- ### Write a function to  Determine if a string is a palindrome (palindrome is if we reverse it has same value)\n",
    "- ### Write a function to Count the number of vowels in a given string\n",
    "- ###  write a function to Find the common elements between two lists\n",
    "- ###  write a function to Check if a given number is a perfect square\n",
    "- ###  write a function to Count the occurrences of a specific character in a string\n",
    "- ###  Write a function to Find the second largest number in a list\n",
    "- ###  Write a function to remove duplicates from a list\n",
    "- ###  Write a function that prints the multiplication table of given number\n",
    "- ### Write a function to Check if a number is prime or not"
   ]
  },
  {
   "cell_type": "code",
   "execution_count": 4,
   "metadata": {},
   "outputs": [
    {
     "data": {
      "text/plain": [
       "'dasarP iraH'"
      ]
     },
     "execution_count": 4,
     "metadata": {},
     "output_type": "execute_result"
    }
   ],
   "source": [
    "name = 'Hari Prasad'\n",
    "name[::-1]"
   ]
  },
  {
   "cell_type": "code",
   "execution_count": 7,
   "metadata": {},
   "outputs": [
    {
     "name": "stdout",
     "output_type": "stream",
     "text": [
      "alal\n"
     ]
    }
   ],
   "source": [
    "# reverse\n",
    "def reverse_string(a):\n",
    "    i = len(a)-1\n",
    "    reversed_list = []\n",
    "    while i>=0:\n",
    "        reversed_list.append(a[i])\n",
    "        i-=1\n",
    "    \n",
    "    return ''.join(reversed_list)\n",
    "\n",
    "print(reverse_string('lala'))"
   ]
  },
  {
   "cell_type": "code",
   "execution_count": 11,
   "metadata": {},
   "outputs": [
    {
     "name": "stdout",
     "output_type": "stream",
     "text": [
      "2\n",
      "False\n"
     ]
    }
   ],
   "source": [
    "def prime(n):\n",
    "    is_prime = True\n",
    "    for i in range(2,int(n/2)+1):\n",
    "        print(i)\n",
    "        if n % i ==0:\n",
    "            is_prime = False\n",
    "            break\n",
    "    \n",
    "    return is_prime\n",
    "\n",
    "print(prime(16))"
   ]
  },
  {
   "cell_type": "markdown",
   "metadata": {},
   "source": [
    "# Write a function to swap two numbers without using a temporary variable"
   ]
  },
  {
   "cell_type": "code",
   "execution_count": 4,
   "metadata": {},
   "outputs": [],
   "source": [
    "def swap_numbers(a,b):\n",
    "    a = a+b\n",
    "    b = a-b\n",
    "    a = a-b\n",
    "    return a,b\n",
    "\n",
    "a,b = swap_numbers(a=5,b=10)\n",
    "\n"
   ]
  },
  {
   "cell_type": "markdown",
   "metadata": {},
   "source": [
    "# Write a function Check if a number is prime"
   ]
  },
  {
   "cell_type": "code",
   "execution_count": 23,
   "metadata": {},
   "outputs": [
    {
     "name": "stdout",
     "output_type": "stream",
     "text": [
      "17 is prime: True\n"
     ]
    }
   ],
   "source": [
    "import math\n",
    "num = 17  \n",
    "is_prime = True\n",
    "if num < 2:\n",
    "    is_prime = False\n",
    "else:\n",
    "    for i in range(2, math.ceil(math.sqrt(num) )): \n",
    "        if num % i == 0:\n",
    "            is_prime = False\n",
    "            break\n",
    "print(num, \"is prime:\", is_prime)\n"
   ]
  },
  {
   "cell_type": "markdown",
   "metadata": {},
   "source": [
    "# Write a function Determine if a string is a palindrome (palindrome is if we reverse it has same value)"
   ]
  },
  {
   "cell_type": "code",
   "execution_count": 3,
   "metadata": {},
   "outputs": [
    {
     "name": "stdout",
     "output_type": "stream",
     "text": [
      "racecar racecar\n",
      "Input is palindrome\n",
      "is palindrome\n"
     ]
    }
   ],
   "source": [
    "input = \"racecar\"\n",
    "length = len(input)\n",
    "counter = length-1\n",
    "reversed = ''\n",
    "while counter>=0:\n",
    "    reversed += input[counter]\n",
    "    counter -= 1\n",
    "\n",
    "print(input,reversed)\n",
    "if reversed==input:\n",
    "    print('Input is palindrome')\n",
    "else:\n",
    "    print(\"Input is not palindrome\")\n",
    "\n",
    "\n",
    "# alternate method\n",
    "print('is palindrome') if input == input[::-1] else print('Is not palindrome')\n",
    "    \n",
    "\n"
   ]
  },
  {
   "cell_type": "markdown",
   "metadata": {},
   "source": [
    "# Write a function to Count the number of vowels in a given string"
   ]
  },
  {
   "cell_type": "code",
   "execution_count": 6,
   "metadata": {},
   "outputs": [
    {
     "name": "stdout",
     "output_type": "stream",
     "text": [
      "vowels e\n",
      "vowels o\n",
      "vowels o\n",
      "3\n"
     ]
    }
   ],
   "source": [
    "phrase = \"Hello world\"\n",
    "def count_vowels(phrase):\n",
    "    vowels = 'aeiou'\n",
    "    total_vowels = 0\n",
    "    for char in phrase:\n",
    "        if char.lower() in vowels:\n",
    "            print(f\"vowels {char}\")\n",
    "            total_vowels +=1\n",
    "\n",
    "    print(total_vowels)\n",
    "    return total_vowels\n"
   ]
  },
  {
   "cell_type": "markdown",
   "metadata": {},
   "source": [
    "# write a function Find the common elements between two lists"
   ]
  },
  {
   "cell_type": "code",
   "execution_count": 27,
   "metadata": {},
   "outputs": [
    {
     "name": "stdout",
     "output_type": "stream",
     "text": [
      "[3, 3, 4]\n"
     ]
    }
   ],
   "source": [
    "list1 = [1, 2, 3, 4]  \n",
    "list2 = [3,3, 4, 5, 6] \n",
    "\n",
    "common_list = []\n",
    "for item1 in list1:\n",
    "    for item2 in list2:\n",
    "        if item1==item2:\n",
    "            common_list.append(item1)\n",
    "\n",
    "print(common_list)"
   ]
  },
  {
   "cell_type": "markdown",
   "metadata": {},
   "source": [
    "# write a function to Check if a given number is a perfect square"
   ]
  },
  {
   "cell_type": "code",
   "execution_count": 5,
   "metadata": {},
   "outputs": [],
   "source": [
    "number = 16\n",
    "\n",
    "def check_perfect_square(number):\n",
    "    if(number==1):\n",
    "        return True\n",
    "    \n",
    "    is_perfect_square = False\n",
    "    for i in range(1,16/2):\n",
    "        if i*i ==number:\n",
    "            is_perfect_square = True\n",
    "            break\n",
    "    return is_perfect_square"
   ]
  },
  {
   "cell_type": "markdown",
   "metadata": {},
   "source": [
    "# write a function Count the occurrences of a specific character in a string"
   ]
  },
  {
   "cell_type": "code",
   "execution_count": 7,
   "metadata": {},
   "outputs": [],
   "source": [
    "fruit = 'banana'\n",
    "char_name = 'a'"
   ]
  },
  {
   "cell_type": "markdown",
   "metadata": {},
   "source": [
    "# Write a function to Find the second largest number in a list"
   ]
  },
  {
   "cell_type": "code",
   "execution_count": 31,
   "metadata": {},
   "outputs": [
    {
     "name": "stdout",
     "output_type": "stream",
     "text": [
      "100 4\n"
     ]
    }
   ],
   "source": [
    "numbers = [3, 5, 1, 2,100,  4] \n",
    "\n",
    "max_number = numbers[0]\n",
    "second_max_number  = numbers[0]\n",
    "\n",
    "for n in numbers:\n",
    "    if n > max_number:\n",
    "        max_number = n\n",
    "    elif n>second_max_number and n != max_number:\n",
    "        second_max_number = n\n",
    "\n",
    "\n",
    "print(max_number,second_max_number)\n"
   ]
  },
  {
   "cell_type": "markdown",
   "metadata": {},
   "source": [
    "# Write a function to remove duplicates from a list"
   ]
  },
  {
   "cell_type": "code",
   "execution_count": 32,
   "metadata": {},
   "outputs": [
    {
     "name": "stdout",
     "output_type": "stream",
     "text": [
      "[1, 2, 3, 4, 5]\n"
     ]
    }
   ],
   "source": [
    "numbers = [1, 2, 2, 3, 4, 4, 5]\n",
    "unique_numbers = []\n",
    "for n in numbers:\n",
    "    if n  not in unique_numbers:\n",
    "        unique_numbers.append(n)\n",
    "\n",
    "print(unique_numbers)"
   ]
  },
  {
   "cell_type": "markdown",
   "metadata": {},
   "source": [
    "# Write a function that prints the multiplication table of given number"
   ]
  },
  {
   "cell_type": "code",
   "execution_count": 10,
   "metadata": {},
   "outputs": [
    {
     "name": "stdout",
     "output_type": "stream",
     "text": [
      "<class 'str'>\n",
      "<class 'int'>\n",
      "18x1=18\n",
      "18x2=36\n",
      "18x3=54\n",
      "18x4=72\n",
      "18x5=90\n",
      "18x6=108\n",
      "18x7=126\n",
      "18x8=144\n",
      "18x9=162\n",
      "18x10=180\n"
     ]
    }
   ],
   "source": [
    "def multiplication_table(n):\n",
    "    for i in range(1,11):\n",
    "        result = i*n\n",
    "        print(f\"{n}x{i}={result}\")\n",
    "\n",
    "number = input('Enter Number')\n",
    "print(type(number))\n",
    "number = int(number)\n",
    "print(type(number))\n",
    "multiplication_table(number)"
   ]
  },
  {
   "cell_type": "code",
   "execution_count": 5,
   "metadata": {},
   "outputs": [
    {
     "name": "stdout",
     "output_type": "stream",
     "text": [
      "3\n"
     ]
    }
   ],
   "source": [
    "def count_vowels(sentence):\n",
    "    total_vowels = 0\n",
    "    vowels = 'aeiou'\n",
    "    for char in sentence:\n",
    "        if char.lower() in vowels:\n",
    "            total_vowels+=1\n",
    "    return total_vowels\n",
    "\n",
    "\n",
    "total_vowels = count_vowels(\"Hello WOrld!\")\n",
    "print(total_vowels)"
   ]
  },
  {
   "cell_type": "code",
   "execution_count": null,
   "metadata": {},
   "outputs": [],
   "source": []
  },
  {
   "cell_type": "code",
   "execution_count": 7,
   "metadata": {},
   "outputs": [
    {
     "name": "stdout",
     "output_type": "stream",
     "text": [
      "1 1\n"
     ]
    }
   ],
   "source": [
    "n = 0\n",
    "x = 2\n",
    "sign = (-1) ** n\n",
    "print(sign,(x ** (2 * n + 1) ))\n",
    "# sine_sum += sign *  / factorial(2 * n + 1)"
   ]
  },
  {
   "cell_type": "code",
   "execution_count": null,
   "metadata": {},
   "outputs": [],
   "source": []
  }
 ],
 "metadata": {
  "kernelspec": {
   "display_name": "base",
   "language": "python",
   "name": "python3"
  },
  "language_info": {
   "codemirror_mode": {
    "name": "ipython",
    "version": 3
   },
   "file_extension": ".py",
   "mimetype": "text/x-python",
   "name": "python",
   "nbconvert_exporter": "python",
   "pygments_lexer": "ipython3",
   "version": "3.12.4"
  }
 },
 "nbformat": 4,
 "nbformat_minor": 2
}
