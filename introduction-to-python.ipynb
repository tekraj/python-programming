{
 "cells": [
  {
   "cell_type": "markdown",
   "metadata": {},
   "source": [
    "# Cover Page"
   ]
  },
  {
   "cell_type": "markdown",
   "metadata": {},
   "source": [
    "# Week 1 Summary"
   ]
  },
  {
   "cell_type": "markdown",
   "metadata": {},
   "source": [
    "# Primitive Data types\n",
    "- Number\n",
    "    - int\n",
    "    - float\n",
    "    - complex\n",
    "- String\n",
    "- Boolean\n",
    "- None"
   ]
  },
  {
   "cell_type": "markdown",
   "metadata": {},
   "source": [
    "# Numbers"
   ]
  },
  {
   "cell_type": "code",
   "execution_count": 6,
   "metadata": {},
   "outputs": [
    {
     "name": "stdout",
     "output_type": "stream",
     "text": [
      "<class 'complex'>\n"
     ]
    }
   ],
   "source": [
    "# int\n",
    "age =  30\n",
    "# float\n",
    "price = 10.5\n",
    "# complex\n",
    "complex_number = 1j\n",
    "\n",
    "print(type(complex_number))"
   ]
  },
  {
   "cell_type": "markdown",
   "metadata": {},
   "source": [
    "### Arithematic Operations"
   ]
  },
  {
   "cell_type": "code",
   "execution_count": 1,
   "metadata": {},
   "outputs": [
    {
     "name": "stdout",
     "output_type": "stream",
     "text": [
      "0\n",
      "0.5\n",
      "5\n"
     ]
    }
   ],
   "source": [
    "# addition\n",
    "a = 5\n",
    "b = 10\n",
    "sum_of_ab = a+b\n",
    "# subtraction\n",
    "diff_of_ab = a-b\n",
    "# multiplication\n",
    "product_of_ab = a*b\n",
    "# division\n",
    "div_of_ab = a/b # 0.5\n",
    "div_of_ab_floor = a//b\n",
    "print(div_of_ab_floor)\n",
    "print(div_of_ab)\n",
    "# modulo (modulus) operator (returns the remainder)\n",
    "rem_a_b = a%b     \n",
    "print(rem_a_b)\n",
    "# power\n",
    "total_ram_size = 10**9 "
   ]
  },
  {
   "cell_type": "markdown",
   "metadata": {},
   "source": [
    "## String in Python\n",
    "Collection of characters"
   ]
  },
  {
   "cell_type": "code",
   "execution_count": 5,
   "metadata": {},
   "outputs": [
    {
     "name": "stdout",
     "output_type": "stream",
     "text": [
      "11\n",
      "R\n",
      "G\n",
      "e\n",
      "fist last name Ram Ghimire\n",
      "Ram Ghimire\n",
      "Ram Ghimire\n",
      "ram ghimire\n",
      "RAM GHIMIRE\n",
      "Ram ghimire\n",
      "-1\n",
      "0\n",
      "['Ram', 'Ghimire']\n",
      "name\n",
      "dsjakfhdsaf\n",
      "dsafdsafd\n",
      "dsafdsafdsa\n",
      "\n",
      "PGS\n"
     ]
    }
   ],
   "source": [
    "name = \"Ram Ghimire\"\n",
    "# length of the string\n",
    "total_no_of_chars = len(name)\n",
    "print(total_no_of_chars)\n",
    " \n",
    "# get first char\n",
    "fist_char = name[0]\n",
    "print(fist_char)\n",
    "# get 5th char\n",
    "fifth_char =name[4]\n",
    "print(fifth_char)\n",
    "# last char\n",
    "last_char = name[-1]\n",
    "print(last_char)\n",
    "\n",
    "\n",
    "# sub-string\n",
    "first_name = name[0:3] # 0,1,2\n",
    "last_name = name[4:11] \n",
    "print(\"fist last name\",first_name,last_name)\n",
    "\n",
    "# concatenation\n",
    "full_name = first_name + ' ' +last_name\n",
    "\n",
    "print(full_name)\n",
    "\n",
    "full_name = f\"{first_name} {last_name}\"\n",
    "print(full_name)\n",
    "\n",
    "print(name.lower())\n",
    "print(name.upper())\n",
    "print(name.capitalize())\n",
    "\n",
    "# check if a string exists in another string\n",
    "find_name  = name.find(\"ram\") # returns -1 => not exist\n",
    "print(find_name)\n",
    "print(name.lower().find(\"ram\")) # returns 0 index => if exist \n",
    "\n",
    "# convert string into list\n",
    "all_chars_of_name = name.split()\n",
    "print(all_chars_of_name)\n",
    "print(\" name \".strip())\n",
    "\n",
    "# find  # find index of sub-string\n",
    "# split => splits string (sentences) into list (words) (splits by space by default)\n",
    "# lower, upper => lower converts string to lower case, upper => to uppercase\n",
    "# strip => removes first and last space\n",
    "\n",
    "\n",
    "# python multi line string (paragraph)\n",
    "\n",
    "paragraph = '''dsjakfhdsaf\n",
    "dsafdsafd\n",
    "dsafdsafdsa\n",
    "'''\n",
    "print(paragraph)\n",
    "\n",
    "college_name = 'Presidential Graduate School'\n",
    "# create a short form of college_name by combining the first letter of each word\n",
    "short_clz_name = college_name[0] + college_name[13]+college_name[-6]\n",
    "print(short_clz_name)\n",
    "# alternate method\n",
    "short_clz_name = ''.join([w[0] for w in college_name.split()])"
   ]
  },
  {
   "cell_type": "markdown",
   "metadata": {},
   "source": [
    "# boolean\n",
    "- True\n",
    "- False"
   ]
  },
  {
   "cell_type": "code",
   "execution_count": 9,
   "metadata": {},
   "outputs": [
    {
     "name": "stdout",
     "output_type": "stream",
     "text": [
      "True False\n"
     ]
    }
   ],
   "source": [
    "passed = True\n",
    "active = False\n",
    "print(passed,active)"
   ]
  },
  {
   "cell_type": "markdown",
   "metadata": {},
   "source": [
    "# None\n",
    "- None keyword is used for defining a null value (no value at all)"
   ]
  },
  {
   "cell_type": "code",
   "execution_count": null,
   "metadata": {},
   "outputs": [],
   "source": [
    "middle_name = None"
   ]
  },
  {
   "cell_type": "markdown",
   "metadata": {},
   "source": [
    "# Composite Data Types\n",
    "### Collection Types\n",
    "- List\n",
    "- Dictionary\n",
    "- Tuple\n",
    "- Set\n",
    "- Range\n"
   ]
  },
  {
   "cell_type": "markdown",
   "metadata": {},
   "source": [
    "## List\n",
    "- A list is a mutable and ordered collection of elements in Python.\n",
    "- It allows duplicate elements and maintains the order of insertion.\n",
    "- Lists are versatile and can contain elements of different data types.\n",
    "- Lists are defined by enclosing comma-separated elements within square brackets [ ]"
   ]
  },
  {
   "cell_type": "code",
   "execution_count": null,
   "metadata": {},
   "outputs": [
    {
     "name": "stdout",
     "output_type": "stream",
     "text": [
      "After appending 'Sushi': ['Pizza', 'MoMo', 'Sushi']\n",
      "After inserting 'Burger' at index 1: ['Pizza', 'Burger', 'MoMo', 'Sushi']\n",
      "After removing 'MoMo': ['Pizza', 'Burger', 'Sushi']\n",
      "Popped item: Sushi\n",
      "List after popping: ['Pizza', 'Burger']\n",
      "First item in the list: Pizza\n",
      "Sliced list from index 1 to 3: ['Burger']\n",
      "Length of the list: 2\n"
     ]
    }
   ],
   "source": [
    "favorite_foods = ['Pizza','MoMo'] # create new list\n",
    "\n",
    "numbers = [1,2,3,4,5,6,7]\n",
    "# length of list\n",
    "total_items = len(numbers)\n",
    "print(total_items)\n",
    "\n",
    "#  Append an item to the list\n",
    "favorite_foods.append('Sushi')\n",
    "print(\"After appending 'Sushi':\", favorite_foods)\n",
    "\n",
    "#  Insert an item at a specific position\n",
    "favorite_foods.insert(1, 'Burger')\n",
    "print(\"After inserting 'Burger' at index 1:\", favorite_foods)\n",
    "\n",
    "#  Remove an item from the list\n",
    "favorite_foods.remove('MoMo')\n",
    "print(\"After removing 'MoMo':\", favorite_foods)\n",
    "\n",
    "#  Pop an item from the list\n",
    "popped_item = favorite_foods.pop()\n",
    "del numbers[2] \n",
    "print(\"Popped item:\", popped_item)\n",
    "print(\"List after popping:\", favorite_foods)\n",
    "\n",
    "# Accessing an item by index\n",
    "print(\"First item in the list:\", favorite_foods[0])\n",
    "\n",
    "# Slicing the list\n",
    "print(\"Sliced list from index 1 to 3:\", favorite_foods[1:3])\n",
    "\n",
    "# Length of the list\n",
    "print(\"Length of the list:\", len(favorite_foods))\n"
   ]
  },
  {
   "cell_type": "markdown",
   "metadata": {},
   "source": [
    "## Tuple\n",
    "- A tuple is an immutable and ordered collection of elements in Python.\n",
    "- It allows duplicate elements and maintains the order of insertion.\n",
    "- Tuples are commonly used for representing fixed collections of related data.\n",
    "- Tuples are defined by enclosing comma-separated elements within parentheses ( ).\n"
   ]
  },
  {
   "cell_type": "code",
   "execution_count": 1,
   "metadata": {},
   "outputs": [
    {
     "name": "stdout",
     "output_type": "stream",
     "text": [
      "Point tuple: (1, 2, 3)\n",
      "First element: 1\n",
      "Length of the tuple: 3\n"
     ]
    }
   ],
   "source": [
    "# Create a tuple representing a point in 3d space\n",
    "point = (1,2,3)\n",
    "# Printing the tuple\n",
    "print(\"Point tuple:\", point)\n",
    "# Ordered\n",
    "print(\"First element:\", point[0])\n",
    "# Size is fixed\n",
    "print(\"Length of the tuple:\", len(point))\n"
   ]
  },
  {
   "cell_type": "markdown",
   "metadata": {},
   "source": [
    "## Set\n",
    "- A set is a mutable and unordered collection of unique elements in Python.\n",
    "- It does not allow duplicate elements and is primarily used for mathematical operations - like union, intersection, and difference.\n",
    "- Sets are defined by enclosing comma-separated elements within curly braces { }."
   ]
  },
  {
   "cell_type": "code",
   "execution_count": 5,
   "metadata": {},
   "outputs": [
    {
     "name": "stdout",
     "output_type": "stream",
     "text": [
      "Set of natural numbers: {1, 2, 3, 4}\n",
      "Number of unique numbers: 4\n",
      "{1, 3}\n"
     ]
    }
   ],
   "source": [
    "natural_numbers = {1,2,3,4}\n",
    "print(\"Set of natural numbers:\", natural_numbers)\n",
    "# Unique elements\n",
    "print(\"Number of unique numbers:\", len(natural_numbers))\n",
    "\n",
    "# Mutable\n",
    "natural_numbers.add(5)\n",
    "natural_numbers.remove(5)\n",
    "\n",
    "odd_numbers = {1,3,5,7}\n",
    "common_items = natural_numbers.intersection(odd_numbers)\n",
    "print(common_items)\n"
   ]
  },
  {
   "cell_type": "markdown",
   "metadata": {},
   "source": [
    "## Range\n",
    "- The range() function returns a sequence of numbers, starting from 0 by default, and increments by 1 (by default), and stops before a specified number.\n",
    "- range(start, stop, step)\n",
    "    - start: \tOptional. An integer number specifying at which position to start. Default is 0 \n",
    "    - stop:    Required. An integer number specifying at which position to stop (not included)\n",
    "    - step: \tOptional. An integer number specifying the incrementation. Default is 1\n"
   ]
  },
  {
   "cell_type": "code",
   "execution_count": 21,
   "metadata": {},
   "outputs": [
    {
     "name": "stdout",
     "output_type": "stream",
     "text": [
      "1\n",
      "2\n",
      "3\n",
      "4\n",
      "5\n",
      "6\n",
      "7\n",
      "8\n",
      "9\n"
     ]
    }
   ],
   "source": [
    "# Create a sequence of numbers from 1 to 10\n",
    "number_range = range(1,10)\n",
    "for n in number_range:\n",
    "    print(n)"
   ]
  },
  {
   "cell_type": "markdown",
   "metadata": {},
   "source": [
    "## Dictionary\n",
    "- A dictionary is a mutable and unordered collection of key-value pairs in Python.\n",
    "- It provides a mapping between keys and values, allowing efficient data retrieval.\n",
    "- Keys within a dictionary are unique and immutable, while values can be of any data type and mutable.\n",
    "- Dictionaries are defined by enclosing comma-separated key-value pairs within curly braces { }, with each pair separated by a colon :"
   ]
  },
  {
   "cell_type": "code",
   "execution_count": null,
   "metadata": {},
   "outputs": [
    {
     "name": "stdout",
     "output_type": "stream",
     "text": [
      "Yes\n",
      "John Doe\n",
      "Original dictionary:\n",
      "{'name': 'John Doe', 'age': 30, 'occupation': 'Software Engineer', 'city': 'New York', 'address': 'Kathmandu'}\n",
      "\n",
      "Accessing value by key:\n",
      "Name: John Doe\n",
      "Age: 30\n",
      "\n",
      "Adding a new key-value pair:\n",
      "After adding 'gender': {'name': 'John Doe', 'age': 30, 'occupation': 'Software Engineer', 'city': 'New York', 'address': 'Kathmandu', 'gender': 'Male'}\n",
      "\n",
      "Updating a value:\n",
      "After updating 'age': {'name': 'John Doe', 'age': 32, 'occupation': 'Software Engineer', 'city': 'New York', 'address': 'Kathmandu', 'gender': 'Male'}\n",
      "\n",
      "Removing a key-value pair:\n",
      "Removed value: Software Engineer\n",
      "After removing 'occupation': {'name': 'John Doe', 'age': 32, 'city': 'New York', 'address': 'Kathmandu', 'gender': 'Male'}\n",
      "\n",
      "Checking if a key exists:\n",
      "'city' exists in person dictionary: True\n",
      "'email' exists in person dictionary: False\n",
      "\n",
      "Iterating over keys and values:\n",
      "name: John Doe\n",
      "age: 32\n",
      "city: New York\n",
      "address: Kathmandu\n",
      "gender: Male\n",
      "\n",
      "Getting keys and values as lists:\n",
      "Keys: ['name', 'age', 'city', 'address', 'gender']\n",
      "Values: ['John Doe', 32, 'New York', 'Kathmandu', 'Male']\n",
      "\n",
      "Length of the dictionary: 5\n",
      "\n",
      "Clearing the dictionary:\n",
      "Dictionary after clearing: {}\n"
     ]
    }
   ],
   "source": [
    "# Create a student dictionary\n",
    "student = {\n",
    "    'name': 'John Doe',\n",
    "    'age': 30,\n",
    "    'occupation': 'Software Engineer',\n",
    "    'city': 'New York',\n",
    "    'marks' :[1,2,3,4,5,6,],\n",
    "    'parents_info' :{\n",
    "        'father_name':'Ram Prashad',\n",
    "        'address':'Kathmandu'\n",
    "    }\n",
    "}\n",
    "print(student['age'])\n",
    "# Print  dictionary\n",
    "print(student)\n",
    "\n",
    "# add/update key value\n",
    "student['address'] = 'Kathmandu'\n",
    "student['age'] = 40\n",
    "\n",
    "# check if key exists in dict\n",
    "if 'address' in student:\n",
    "    print('Yes')\n",
    "\n",
    "# Accessing value by key\n",
    "print(\"\\nAccessing value by key:\")\n",
    "print(\"Name:\", student['name'])\n",
    "print(\"Age:\", student['age'])\n",
    "\n",
    "# Adding a new key-value pair\n",
    "print(\"\\nAdding a new key-value pair:\")\n",
    "student['gender'] = 'Male'\n",
    "print(\"After adding 'gender':\", student)\n",
    "\n",
    "# Updating a value\n",
    "print(\"\\nUpdating a value:\")\n",
    "student['age'] = 32\n",
    "print(\"After updating 'age':\", student)\n",
    "\n",
    "# Removing a key-value pair\n",
    "print(\"\\nRemoving a key-value pair:\")\n",
    "removed_value = student.pop('occupation')\n",
    "print(\"Removed value:\", removed_value)\n",
    "print(\"After removing 'occupation':\", student)\n",
    "\n",
    "# Checking if a key exists\n",
    "print(\"\\nChecking if a key exists:\")\n",
    "print(\"'city' exists in student dictionary:\", 'city' in student)\n",
    "print(\"'email' exists in student dictionary:\", 'email' in student)\n",
    "\n",
    "# Iterating over keys and values\n",
    "print(\"\\nIterating over keys and values:\")\n",
    "for key, value in student.items():\n",
    "    print(key + \":\", value)\n",
    "\n",
    "# Getting keys and values as lists\n",
    "print(\"\\nGetting keys and values as lists:\")\n",
    "keys = list(student.keys())\n",
    "values = list(student.values())\n",
    "print(\"Keys:\", keys)\n",
    "print(\"Values:\", values)\n",
    "\n",
    "# Length of the dictionary\n",
    "print(\"\\nLength of the dictionary:\", len(student))\n",
    "\n",
    "# Clearing the dictionary\n",
    "print(\"\\nClearing the dictionary:\")\n",
    "student.clear()\n",
    "print(\"Dictionary after clearing:\", student)\n"
   ]
  },
  {
   "cell_type": "markdown",
   "metadata": {},
   "source": [
    "# Control Structures (Conditional Statements)\n",
    "- if\n",
    "- if-else \n",
    "- if-elif-else (if-elseif-else)\n",
    "- Nested if statements\n",
    "- Ternary conditional operator\n",
    "\n",
    "Note: Python doesn't have switch"
   ]
  },
  {
   "cell_type": "code",
   "execution_count": 15,
   "metadata": {},
   "outputs": [
    {
     "name": "stdout",
     "output_type": "stream",
     "text": [
      "Good Morning\n",
      "Its holiday\n",
      "petrol-powered vehicle\n",
      "20\n"
     ]
    }
   ],
   "source": [
    "time = 10\n",
    "# if\n",
    "if time < 12 :\n",
    "    print('Good Morning')\n",
    "    print('test')\n",
    "    print('Say Good Morning')\n",
    "\n",
    "\n",
    "# if-else\n",
    "\n",
    "day = 'Saturday'\n",
    "if day=='Saturday':\n",
    "    print('Its holiday')\n",
    "else:\n",
    "    print('Its weekday')\n",
    "\n",
    "# if-elif-else\n",
    "fuel_type='petrol'\n",
    "\n",
    "if fuel_type == 'electric':\n",
    "    print(\"Electric vehicle\")\n",
    "elif fuel_type == 'petrol':\n",
    "    print(\"petrol-powered vehicle\")\n",
    "elif fuel_type == 'diesel':\n",
    "    print(\"Diesel-powered vehicle\")\n",
    "else:\n",
    "    print(\"Unknown fuel type\")\n",
    "\n",
    "# ternary operator\n",
    "x = 10\n",
    "y = 20\n",
    "max_value = x if x > y else y # c equivalent max_value =  x>y ? x: y\n",
    "print(max_value)  # Output: 20"
   ]
  },
  {
   "cell_type": "markdown",
   "metadata": {},
   "source": [
    "# Loops\n",
    "- for (iterates overs sequence of values or elements)\n",
    "- while (while loop executes the block of code repeatedly as long as the specified condition is true)"
   ]
  },
  {
   "cell_type": "markdown",
   "metadata": {},
   "source": [
    "# While Loop"
   ]
  },
  {
   "cell_type": "code",
   "execution_count": 1,
   "metadata": {},
   "outputs": [
    {
     "name": "stdout",
     "output_type": "stream",
     "text": [
      "0\n",
      "1\n",
      "2\n",
      "3\n",
      "4\n",
      "5\n",
      "6\n",
      "7\n",
      "8\n",
      "9\n"
     ]
    }
   ],
   "source": [
    "count =0\n",
    "while count<10:\n",
    "    print(count)\n",
    "    count+=1"
   ]
  },
  {
   "cell_type": "markdown",
   "metadata": {},
   "source": [
    "# For Loop"
   ]
  },
  {
   "cell_type": "code",
   "execution_count": 4,
   "metadata": {},
   "outputs": [
    {
     "name": "stdout",
     "output_type": "stream",
     "text": [
      "1\n",
      "2\n",
      "3\n",
      "4\n",
      "5\n",
      "[2, 4]\n",
      "[1, 2000, 3, 4000, 5]\n",
      "1 is in numbers list\n"
     ]
    }
   ],
   "source": [
    "# for loop over list\n",
    "numbers = [1, 2, 3, 4, 5]\n",
    "\n",
    "for num in numbers: # iterate over list using for loop\n",
    "    print(num)\n",
    "\n",
    "even_numbers = [num for num in numbers if num %2 ==0]  # filter even numbers\n",
    "print(even_numbers)\n",
    "\n",
    "transformed_list = [num * 100 for num in numbers ] # transform\n",
    "\n",
    "new_list = [  num *1000 if num%2==0 else num for num in numbers ]\n",
    "print(new_list)\n",
    "\n",
    "\n",
    "# check if item exist in listcc\n",
    "if 1 in numbers:\n",
    "    print(\"1 is in numbers list\")\n",
    "\n"
   ]
  },
  {
   "cell_type": "markdown",
   "metadata": {},
   "source": [
    "# Range"
   ]
  },
  {
   "cell_type": "code",
   "execution_count": 1,
   "metadata": {},
   "outputs": [
    {
     "name": "stdout",
     "output_type": "stream",
     "text": [
      "1\n",
      "2\n",
      "3\n",
      "4\n",
      "5\n",
      "6\n",
      "7\n",
      "8\n",
      "9\n",
      "10\n",
      "11\n",
      "12\n",
      "13\n",
      "14\n",
      "15\n",
      "16\n",
      "17\n",
      "18\n",
      "19\n",
      "20\n",
      "21\n",
      "22\n",
      "23\n",
      "24\n",
      "25\n",
      "26\n",
      "27\n",
      "28\n",
      "29\n",
      "30\n",
      "31\n",
      "32\n",
      "33\n",
      "34\n",
      "35\n",
      "36\n",
      "37\n",
      "38\n",
      "39\n",
      "40\n",
      "41\n",
      "42\n",
      "43\n",
      "44\n",
      "45\n",
      "46\n",
      "47\n",
      "48\n",
      "49\n",
      "50\n",
      "51\n",
      "52\n",
      "53\n",
      "54\n",
      "55\n",
      "56\n",
      "57\n",
      "58\n",
      "59\n",
      "60\n",
      "61\n",
      "62\n",
      "63\n",
      "64\n",
      "65\n",
      "66\n",
      "67\n",
      "68\n",
      "69\n",
      "70\n",
      "71\n",
      "72\n",
      "73\n",
      "74\n",
      "75\n",
      "76\n",
      "77\n",
      "78\n",
      "79\n",
      "80\n",
      "81\n",
      "82\n",
      "83\n",
      "84\n",
      "85\n",
      "86\n",
      "87\n",
      "88\n",
      "89\n",
      "90\n",
      "91\n",
      "92\n",
      "93\n",
      "94\n",
      "95\n",
      "96\n",
      "97\n",
      "98\n",
      "99\n",
      "100\n"
     ]
    }
   ],
   "source": [
    "range_1_100 = range(1,101)\n",
    "for i in range_1_100:\n",
    "    print(i)"
   ]
  },
  {
   "cell_type": "markdown",
   "metadata": {},
   "source": [
    "## From given two lists find out the common elements and create new list of common items"
   ]
  },
  {
   "cell_type": "code",
   "execution_count": 2,
   "metadata": {},
   "outputs": [
    {
     "name": "stdout",
     "output_type": "stream",
     "text": [
      "[3, 4, 5]\n",
      "[3, 4, 5]\n",
      "[3, 4, 5, 10]\n"
     ]
    }
   ],
   "source": [
    "list_1 =  [1,2,3,4,5,6]\n",
    "list_2 = [3,4,5,10]\n",
    "\n",
    "common_list = []\n",
    "for i in list_1:\n",
    "    if i in list_2:\n",
    "        common_list.append(i)\n",
    "\n",
    "print(common_list)\n",
    "common_list =[]\n",
    "for i in list_1:\n",
    "    for j in list_2:\n",
    "        if i==j:\n",
    "            common_list.append(i)\n",
    "         \n",
    "\n",
    "\n",
    "print(common_list)\n",
    "#inline\n",
    "common_list = [i for i in list_1 if i in list_2]\n",
    "print(common_list)"
   ]
  },
  {
   "cell_type": "markdown",
   "metadata": {},
   "source": [
    "# Exception Handling\n",
    "It allows us to detect, handle, and recover from unexpected situations without crashing the program. Python provides a structured way to handle exceptions using \n",
    "- try \n",
    "- except\n",
    "- else\n",
    "- finally"
   ]
  },
  {
   "cell_type": "code",
   "execution_count": 14,
   "metadata": {},
   "outputs": [
    {
     "name": "stdout",
     "output_type": "stream",
     "text": [
      "Error: Division by zero is not allowed\n",
      "None\n"
     ]
    }
   ],
   "source": [
    "def divide_numbers(x, y):\n",
    "    try:\n",
    "        result = x / y\n",
    "        return result\n",
    "    except ZeroDivisionError:\n",
    "        print(\"Error: Division by zero is not allowed\")\n",
    "        return None\n",
    "    \n",
    "result = divide_numbers(1,0)\n",
    "print(result)"
   ]
  },
  {
   "cell_type": "markdown",
   "metadata": {},
   "source": [
    "# Function\n",
    "- In Python, functions are reusable blocks of code that perform a specific task. \n",
    "- They provide a way to modularize code, improve readability, and promote code reuse. \n",
    "- Functions can take input parameters (arguments), perform operations, and optionally return a result."
   ]
  },
  {
   "cell_type": "markdown",
   "metadata": {},
   "source": [
    "### Define a Function\n",
    "```\n",
    "#Syntax\n",
    "def function_name(parameters):\n",
    "    # Block of code\n",
    "    return expression\n",
    "```"
   ]
  },
  {
   "cell_type": "code",
   "execution_count": 6,
   "metadata": {},
   "outputs": [
    {
     "name": "stdout",
     "output_type": "stream",
     "text": [
      "3\n",
      "-1\n",
      "6\n",
      "Denominator can't be zero\n"
     ]
    }
   ],
   "source": [
    "def calculator(input1,operation,input2):\n",
    "    if operation =='+':\n",
    "        print(input1+input2)\n",
    "    elif operation =='-':\n",
    "        print(input1-input2)\n",
    "    elif operation =='*':\n",
    "        print(input1*input2)\n",
    "    elif operation =='/':\n",
    "        if input2==0:\n",
    "            print(\"Denominator can't be zero\")\n",
    "        else:\n",
    "            print(input1/input2)\n",
    "    else :\n",
    "        print('Invalid Operation')\n",
    "\n",
    "\n",
    "\n",
    "calculator(10,'*',40)\n",
    "# use calculator function (function call)\n",
    "# sum\n",
    "calculator(1,'+',2)\n",
    "# subtraction\n",
    "calculator(1,'-',2)\n",
    "# multiply\n",
    "calculator(2,'*',3)\n",
    "# divide\n",
    "calculator(4,'/',0)"
   ]
  },
  {
   "cell_type": "markdown",
   "metadata": {},
   "source": [
    "### Define a function to calculate the sine of given angle\n",
    "- i.e. sin(pi/4), sin(pi/6)"
   ]
  },
  {
   "cell_type": "code",
   "execution_count": null,
   "metadata": {},
   "outputs": [],
   "source": [
    "def sin(angle,terms=10):\n",
    "    # print the value of sin(angle)\n",
    "    for i in range(0,terms):\n",
    "        sign = (-1)**i\n",
    "        "
   ]
  },
  {
   "cell_type": "markdown",
   "metadata": {},
   "source": [
    "### Calling a function\n",
    "Once defined, a function can be called or invoked to execute its code."
   ]
  },
  {
   "cell_type": "code",
   "execution_count": 22,
   "metadata": {},
   "outputs": [
    {
     "name": "stdout",
     "output_type": "stream",
     "text": [
      "55\n"
     ]
    }
   ],
   "source": [
    "message = add(x=10,y=45)\n",
    "print(message)  # Output: Hello, Alice!"
   ]
  },
  {
   "cell_type": "markdown",
   "metadata": {},
   "source": [
    "### Parameters and Arguments:\n",
    "\n",
    "- Functions can accept zero or more parameters, which act as placeholders for values passed during function invocation.\n",
    "- Parameters are specified in the function definition, while arguments are the actual values supplied when calling the function."
   ]
  },
  {
   "cell_type": "code",
   "execution_count": 11,
   "metadata": {},
   "outputs": [
    {
     "name": "stdout",
     "output_type": "stream",
     "text": [
      "8\n"
     ]
    }
   ],
   "source": [
    "def add(x, y): # x and y are parameters\n",
    "    return x + y\n",
    "\n",
    "result = add(3, 5)  # x = 3, y = 5 are arguments supplied to the function\n",
    "print(result)  # Output: 8"
   ]
  },
  {
   "cell_type": "markdown",
   "metadata": {},
   "source": [
    "### Default Arguments:\n",
    "- We can specify default values for function parameters. \n",
    "- If no value is provided for a default parameter, the default value is used."
   ]
  },
  {
   "cell_type": "code",
   "execution_count": 6,
   "metadata": {},
   "outputs": [
    {
     "name": "stdout",
     "output_type": "stream",
     "text": [
      "15\n",
      "In-active\n"
     ]
    }
   ],
   "source": [
    "def add(x=5,y=6):\n",
    "    print(x+y)\n",
    "\n",
    "add(7,8)\n",
    "\n",
    "def is_active(status=False):\n",
    "    if status==True:\n",
    "        print('Is active')\n",
    "    else:\n",
    "        print('In-active')\n",
    "\n",
    "is_active()"
   ]
  },
  {
   "cell_type": "markdown",
   "metadata": {},
   "source": [
    "### Named Arguments"
   ]
  },
  {
   "cell_type": "code",
   "execution_count": null,
   "metadata": {},
   "outputs": [],
   "source": [
    "def add(x=5,y=6,z=10):\n",
    "    print(x+y+z)\n",
    "\n",
    "add(x=5,y=10,z=12)\n"
   ]
  },
  {
   "cell_type": "markdown",
   "metadata": {},
   "source": [
    "### Arbitrary Arguments:\n",
    "\n",
    "- Functions can accept a variable number of arguments using *args or **kwargs (keyword arguments).\n",
    "- *args is used to pass a variable number of positional arguments, while **kwargs is used to pass a variable number of keyword arguments."
   ]
  },
  {
   "cell_type": "code",
   "execution_count": 9,
   "metadata": {},
   "outputs": [
    {
     "name": "stdout",
     "output_type": "stream",
     "text": [
      "1 2\n",
      "(3, 4, 5, 6)\n",
      "None\n"
     ]
    }
   ],
   "source": [
    "def add(a,b,*args):\n",
    "    print(a,b)\n",
    "    print(args)\n",
    "\n",
    "a = add(1,2,3,4,5,6)\n",
    "print(a)"
   ]
  },
  {
   "cell_type": "markdown",
   "metadata": {},
   "source": [
    "### Return Statement:\n",
    "\n",
    "- Functions can return a value using the return statement.\n",
    "- If no return statement is provided, the function returns None by default."
   ]
  },
  {
   "cell_type": "code",
   "execution_count": 12,
   "metadata": {},
   "outputs": [
    {
     "name": "stdout",
     "output_type": "stream",
     "text": [
      "even number\n",
      "Number is even\n"
     ]
    },
    {
     "ename": "ZeroDivisionError",
     "evalue": "division by zero",
     "output_type": "error",
     "traceback": [
      "\u001b[1;31m---------------------------------------------------------------------------\u001b[0m",
      "\u001b[1;31mZeroDivisionError\u001b[0m                         Traceback (most recent call last)",
      "Cell \u001b[1;32mIn[12], line 18\u001b[0m\n\u001b[0;32m     15\u001b[0m \u001b[38;5;28;01mdef\u001b[39;00m \u001b[38;5;21mdivide\u001b[39m(x,y):\n\u001b[0;32m     16\u001b[0m     \u001b[38;5;28;01mreturn\u001b[39;00m x\u001b[38;5;241m/\u001b[39my\n\u001b[1;32m---> 18\u001b[0m result \u001b[38;5;241m=\u001b[39m divide(\u001b[38;5;241m19\u001b[39m,\u001b[38;5;241m0\u001b[39m)\n\u001b[0;32m     19\u001b[0m \u001b[38;5;28mprint\u001b[39m(result)\n",
      "Cell \u001b[1;32mIn[12], line 16\u001b[0m, in \u001b[0;36mdivide\u001b[1;34m(x, y)\u001b[0m\n\u001b[0;32m     15\u001b[0m \u001b[38;5;28;01mdef\u001b[39;00m \u001b[38;5;21mdivide\u001b[39m(x,y):\n\u001b[1;32m---> 16\u001b[0m     \u001b[38;5;28;01mreturn\u001b[39;00m x\u001b[38;5;241m/\u001b[39my\n",
      "\u001b[1;31mZeroDivisionError\u001b[0m: division by zero"
     ]
    }
   ],
   "source": [
    "def is_even_number(number):\n",
    "    if number %2==0:\n",
    "        print('even number')\n",
    "        return 'Number is even'\n",
    "    \n",
    "    print('odd number')\n",
    "    return 'Number is odd'\n",
    "  \n",
    "\n",
    "\n",
    "check_number = is_even_number(4)\n",
    "print(check_number)\n",
    "\n",
    "\n",
    "def divide(x,y):\n",
    "    if y==0:\n",
    "        print(\"Denominator can't be zero\")\n",
    "        return None\n",
    "    \n",
    "    return x/y\n",
    "\n",
    "result = divide(19,0)\n",
    "print(result)\n",
    "\n"
   ]
  },
  {
   "cell_type": "markdown",
   "metadata": {},
   "source": [
    "### Lambda Functions\n",
    "- Lambda functions, also known as anonymous functions, are small, single-expression functions defined using the lambda keyword.\n",
    "- They are often used for short, simple operations."
   ]
  },
  {
   "cell_type": "code",
   "execution_count": 16,
   "metadata": {},
   "outputs": [
    {
     "name": "stdout",
     "output_type": "stream",
     "text": [
      "16\n",
      "2.0\n",
      "512\n"
     ]
    }
   ],
   "source": [
    "square = lambda x: x ** 2\n",
    "# def square(x):\n",
    "#     return x**2\n",
    "square_root = lambda x : x**(1/2)\n",
    "cube = lambda n : n**3\n",
    "print(square(4))  # Output: 16\n",
    "print(square_root(4))\n",
    "print(cube(8))"
   ]
  },
  {
   "cell_type": "code",
   "execution_count": null,
   "metadata": {},
   "outputs": [],
   "source": []
  }
 ],
 "metadata": {
  "kernelspec": {
   "display_name": "base",
   "language": "python",
   "name": "python3"
  },
  "language_info": {
   "codemirror_mode": {
    "name": "ipython",
    "version": 3
   },
   "file_extension": ".py",
   "mimetype": "text/x-python",
   "name": "python",
   "nbconvert_exporter": "python",
   "pygments_lexer": "ipython3",
   "version": "3.12.4"
  }
 },
 "nbformat": 4,
 "nbformat_minor": 2
}
